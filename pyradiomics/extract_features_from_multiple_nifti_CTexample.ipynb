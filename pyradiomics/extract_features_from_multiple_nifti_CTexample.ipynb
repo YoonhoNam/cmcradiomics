{
 "cells": [
  {
   "cell_type": "markdown",
   "metadata": {},
   "source": [
    "# CT example\n",
    "\n",
    "아래의 코드는 \n",
    "data는 각 환자 데이터들이 다른 폴더에 존재하고,\n",
    "각 환자의 데이터폴더에는 image와 segmentation이 미리 정해진 이름으로 동일하게 존재하는 것을 가정합니다.\n",
    "\n",
    "ex.\n",
    "\n",
    "project1 --- patient001 --- image.nii.gz, seg.nii.gz\n",
    "         --- patient002 --- image.nii.gz, seg.nii.gz\n",
    "                ...\n",
    "\n",
    "\n",
    "이 경우에 \n",
    "path = \"project1\"이 들어가야 합니다. \n",
    "절대경로/상대경로에 대해 잘 이해가 되지 않는 경우에는 아래와 같이 project1의 상위폴더도 같이 넣어 줍니다.\n",
    "path = \"T:\\python\\data\\project1\"\n",
    "\n",
    "path안에 있는 폴더이름을 환자의 id로 간주하여 처리하게 됩니다.\n",
    "\n",
    "코드에서 아래에 해당하는 부분에서 파일이름이 image, seg가 아닌 경우 해당하는 이름으로 바꾸어 줍니다. \n",
    "image = sitk.ReadImage(path+\"/\"+patient_id[i]+\"/\"+\"image.nii.gz\")\n",
    "label = sitk.ReadImage(path+\"/\"+patient_id[i]+\"/\"+\"seg.nii.gz\")\n",
    "\n",
    "코드의 끝 부분을 보면 아래와 같은 코드가 있습니다. \n",
    "이 부분을 변경하여 내가 원하는 위치에 원하는 이름의 csv파일로 결과를 저장할 수 있습니다.\n",
    "import csv\n",
    "f = open('pyradiomics/results/msk_ct001_test.csv','w', newline=\"\")\n",
    "\n",
    "\n",
    "문의: yhnam83@gmail.com\n",
    "\n"
   ]
  },
  {
   "cell_type": "code",
   "execution_count": 2,
   "metadata": {},
   "outputs": [],
   "source": [
    "# Download the zip file if it does not exist\n",
    "import os, zipfile\n",
    "import pandas as pd\n",
    "import seaborn as sns\n",
    "from six.moves import urllib\n",
    "# Import some libraries\n",
    "import SimpleITK as sitk\n",
    "from radiomics import featureextractor"
   ]
  },
  {
   "cell_type": "markdown",
   "metadata": {},
   "source": [
    "path, param을 본인의 폴더, 파일명으로 정확하게 입력해야 합니다. \n",
    "exampleCT.yaml파일은 pyradiomics에서 기본으로 제공하는 CT용 환경파일입니다."
   ]
  },
  {
   "cell_type": "code",
   "execution_count": 8,
   "metadata": {},
   "outputs": [],
   "source": [
    "# Load up the segmentations and extract the features\n",
    "#path = \"/content/drive/My Drive/Radiomics/Neuro/HYST2EDEMA\"\n",
    "path = \"pyradiomics/data/msk_ct_001\"\n",
    "Input_folder = os.listdir(path)\n",
    "\n",
    "params = os.path.join(os.getcwd(), 'pyradiomics/yaml', 'exampleCT.yaml')\n",
    "extractor = featureextractor.RadiomicsFeatureExtractor(params)\n",
    "\n",
    "patient_id = []\n",
    "for i in range(0,len(Input_folder)):\n",
    "    patient_id.append(Input_folder[i])"
   ]
  },
  {
   "cell_type": "code",
   "execution_count": 9,
   "metadata": {},
   "outputs": [
    {
     "data": {
      "text/plain": [
       "'pyradiomics/data/msk_ct_001/p001/.nii.gz'"
      ]
     },
     "execution_count": 9,
     "metadata": {},
     "output_type": "execute_result"
    }
   ],
   "source": [
    "path+\"/\"+patient_id[i]+\"/\"+\".nii.gz\""
   ]
  },
  {
   "cell_type": "code",
   "execution_count": 10,
   "metadata": {},
   "outputs": [
    {
     "name": "stdout",
     "output_type": "stream",
     "text": [
      "p001\n"
     ]
    }
   ],
   "source": [
    "features = {}\n",
    "for i in range(0,len(patient_id)):\n",
    "    print(patient_id[i])\n",
    "    image = sitk.ReadImage(path+\"/\"+patient_id[i]+\"/\"+\"image.dcm.nii.gz\")\n",
    "    label = sitk.ReadImage(path+\"/\"+patient_id[i]+\"/\"+\"seg.nii.gz\")\n",
    "    features[i] = extractor.execute(image,label)"
   ]
  },
  {
   "cell_type": "code",
   "execution_count": 13,
   "metadata": {},
   "outputs": [],
   "source": [
    "feature_names0 = list(sorted(filter ( lambda k: k.startswith(\"original\"), features[0])))  #key&value(dictionary)\n",
    "feature_names1 = list(sorted(filter ( lambda k: k.startswith(\"wavelet\"), features[0])))  #key&value(dictionary)\n",
    "feature_names2 = list(sorted(filter ( lambda k: k.startswith(\"log\"), features[0])))  #key&value(dictionary)\n",
    "\n",
    "feature_names=feature_names0+feature_names1+feature_names2\n",
    "\n",
    "def extractDigits(lst):\n",
    "    res=[]\n",
    "    for el in lst:\n",
    "        sub=el.split(',')\n",
    "        res.append(sub)\n",
    "    return(res)\n",
    "\n",
    "patient = extractDigits(patient_id)\n",
    "#print(patient)"
   ]
  },
  {
   "cell_type": "code",
   "execution_count": 14,
   "metadata": {},
   "outputs": [],
   "source": [
    "# Make a numpy array of all the values\n",
    "import numpy as np\n",
    "\n",
    "samples = np.zeros((len(patient_id),len(feature_names)))\n",
    "\n",
    "for i in range(0,len(patient_id)):\n",
    "    a = np.array([])\n",
    "#  a = np.append(a,case_id)\n",
    "    for feature_name in feature_names:\n",
    "        a = np.append(a, features[i][feature_name])\n",
    "  \n",
    "    samples[i,:]=a\n",
    "\n",
    "\n",
    "# May have NaNs\n",
    "samples = np.nan_to_num(samples)\n",
    "\n",
    "########\n",
    "data=samples\n",
    "#data=np.append(patient,data,axis=1)\n",
    "data =np.append(patient,data,axis=1)\n",
    "\n",
    "# save result to csv file\n",
    "first_row=feature_names[:]\n",
    "first_row.insert(0,'Patient ID')\n",
    "#print(first_row)\n",
    "\n",
    "import csv\n",
    "f = open('pyradiomics/results/msk_ct001_test.csv','w', newline=\"\")\n",
    "wr = csv.writer(f)\n",
    "wr.writerow(first_row)\n",
    "\n",
    "for i in range(len(patient_id)):\n",
    "    wr.writerow(data[i,:])\n",
    "\n",
    "f.close()"
   ]
  },
  {
   "cell_type": "code",
   "execution_count": null,
   "metadata": {},
   "outputs": [],
   "source": []
  }
 ],
 "metadata": {
  "kernelspec": {
   "display_name": "Python 3",
   "language": "python",
   "name": "python3"
  },
  "language_info": {
   "codemirror_mode": {
    "name": "ipython",
    "version": 3
   },
   "file_extension": ".py",
   "mimetype": "text/x-python",
   "name": "python",
   "nbconvert_exporter": "python",
   "pygments_lexer": "ipython3",
   "version": "3.7.6"
  }
 },
 "nbformat": 4,
 "nbformat_minor": 4
}